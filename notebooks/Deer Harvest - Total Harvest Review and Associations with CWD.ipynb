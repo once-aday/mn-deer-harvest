{
 "cells": [
  {
   "cell_type": "markdown",
   "metadata": {},
   "source": [
    "# Deer Harvest - Total Harvest Review and Possible Associations with Chronic Wasting Disease\n",
    "\n",
    "## Objectives\n",
    "    - Compile data and identify state-wide trends on Total Deer Harvest\n",
    "    - Map Year by Year Changes in Harvest Numbers\n",
    "    - Map and Explore Chronic Wasting Disease relative to Deer Harvest\n",
    "    "
   ]
  },
  {
   "cell_type": "markdown",
   "metadata": {},
   "source": [
    "### Acquire Minnesota Basemap and import Libraries"
   ]
  },
  {
   "cell_type": "code",
   "execution_count": null,
   "metadata": {},
   "outputs": [],
   "source": [
    "%matplotlib inline\n",
    "\n",
    "import geopandas as gpd\n",
    "import pandas as pd\n",
    "import matplotlib.pyplot as plt\n",
    "from pathlib import Path\n",
    "import warnings\n",
    "warnings.simplefilter(action='ignore')\n",
    "\n",
    "\n",
    "us_states = gpd.read_file('http://www2.census.gov/geo/tiger/GENZ2017/shp/cb_2017_us_state_20m.zip')\n",
    "mn_state_boundary = us_states[us_states[\"STUSPS\"].isin([\"MN\"])]\n"
   ]
  },
  {
   "cell_type": "markdown",
   "metadata": {},
   "source": [
    "## Process all available yearly deer harvest data in Perpetual Permit Areas\n",
    "\n",
    "The Minessota Geospatial Commons (https://gisdata.mn.gov/) has published Deer Harvest Data from 1993 to 2014.\n",
    "\n",
    "One objective of this notebook is to compile all data available from 2009 onwards for Permit Areas that have not had their geographic boundaries altered (Perpetual Permit Areas). This will be an automated process and when years 2015 and later are released they can be downloaded and the notebook will automatically add them.\n",
    "\n",
    "Note: Data before 2009 is not included in this process because Permit Area numbers, now designated as \"kill blocks\" were altered so we cannot automatically match them to post 2008 permit areas.\n",
    "\n",
    "data source: https://gisdata.mn.gov/dataset/env-mn-deer-harvest"
   ]
  },
  {
   "cell_type": "code",
   "execution_count": null,
   "metadata": {},
   "outputs": [],
   "source": [
    "# Get Deer Permit Areas Shapefile from file\n",
    "# note: starting in 2009 permit areas are referred to as kill blocks in MN DNR gis data\n",
    "deer_permit_areas = gpd.read_file('data\\deer_permit_areas.json')\n",
    "\n",
    "# Collect all deer harvest shapefiles from directory and append to single geodataframe\n",
    "# As new yearly data is released we can re-run the process\n",
    "folder = Path(\"data\\deer_harvest_shp\")\n",
    "shapefiles = folder.glob(\"*.shp\")\n",
    "\n",
    "for shp in shapefiles:\n",
    "    year = str(shp)[-8:-4]\n",
    "    if int(year) >= 2009:\n",
    "        dh_year = gpd.read_file(shp)\n",
    "        # Reduce dataset to only columns of interest, rename them with associated year\n",
    "        dh_year_reduce = dh_year[['KILLBLOCK','TOTALHARV']]\n",
    "        dh_year_reduce.columns = ['KILLBLOCK',f'TOTALHARV_{year}']\n",
    "        deer_permit_areas = deer_permit_areas.merge(dh_year_reduce, on='KILLBLOCK')\n",
    "    else:\n",
    "        pass\n",
    "deer_permit_areas.sample(3)"
   ]
  },
  {
   "cell_type": "markdown",
   "metadata": {},
   "source": [
    "## Overview of Permit Areas\n",
    "In the following chart and maps we can observe which years had the greatest total harvest and which permit areas had t"
   ]
  },
  {
   "cell_type": "code",
   "execution_count": null,
   "metadata": {},
   "outputs": [],
   "source": [
    "# General Statistics on total harvest data\n",
    "deer_permit_areas[['TOTALHARV_2009','TOTALHARV_2010','TOTALHARV_2011','TOTALHARV_2012','TOTALHARV_2013','TOTALHARV_2014']].describe().plot.bar(figsize=(16, 10))"
   ]
  },
  {
   "cell_type": "markdown",
   "metadata": {},
   "source": [
    "# View Maps at Relative Scale\n",
    "Here we can take a look at maps for each year. The map colors are scaled for each individual year giving a sense of the full extent of total deer harvest values."
   ]
  },
  {
   "cell_type": "code",
   "execution_count": null,
   "metadata": {},
   "outputs": [],
   "source": [
    "# Get all total harvest columns names to plot a map for each year\n",
    "years = list(deer_permit_areas.columns[4:])\n",
    "\n",
    "# Calculate number of rows needed to plot all years\n",
    "plot_rows = int(str(len(years)/2).rstrip('.0'))\n",
    "\n",
    "# Create plot for every year available up to 9 years.\n",
    "fig, axes = plt.subplots(figsize=(20, 30), ncols=2, nrows=plot_rows,\n",
    "                        constrained_layout=True, \n",
    "                        sharex=True, sharey=True, \n",
    "                        subplot_kw=dict(aspect='equal'))\n",
    "\n",
    "fig.suptitle('Total Deer Harvest in Perpetual Permit Areas (Relative Scales)', fontsize=35)\n",
    "\n",
    "# Loop through up to 11 potential maps of Yearly Deer Harvest data\n",
    "for idx, val in enumerate(years):\n",
    "    if idx < 2:\n",
    "        axes[0][idx].set_title(val[-4:], fontsize=25)\n",
    "        deer_permit_areas.plot(ax=axes[0][idx], column=years[idx], legend=True, cmap='coolwarm')\n",
    "        deer_permit_areas.apply(lambda x: axes[0][idx].annotate(s=x.KILLBLOCK, xy=x.geometry.centroid.coords[0], ha='center'),axis=1)\n",
    "    elif 2 <= idx < 4:\n",
    "        axes[1][idx-2].set_title(val[-4:], fontsize=25)\n",
    "        deer_permit_areas.plot(ax=axes[1][idx-2], column=years[idx], legend=True, cmap='coolwarm')\n",
    "        deer_permit_areas.apply(lambda x: axes[1][idx-2].annotate(s=x.KILLBLOCK, xy=x.geometry.centroid.coords[0], ha='center'),axis=1)\n",
    "    elif 4 <= idx < 6:\n",
    "        axes[2][idx-4].set_title(val[-4:], fontsize=25)\n",
    "        deer_permit_areas.plot(ax=axes[2][idx-4], column=years[idx], legend=True, cmap='coolwarm')\n",
    "        deer_permit_areas.apply(lambda x: axes[2][idx-4].annotate(s=x.KILLBLOCK, xy=x.geometry.centroid.coords[0], ha='center'),axis=1)\n",
    "    elif 6 <= idx < 8:\n",
    "        axes[2][idx-6].set_title(val[-4:], fontsize=25)\n",
    "        deer_permit_areas.plot(ax=axes[2][idx-6], column=years[idx], legend=True, cmap='coolwarm')\n",
    "        deer_permit_areas.apply(lambda x: axes[2][idx-6].annotate(s=x.KILLBLOCK, xy=x.geometry.centroid.coords[0], ha='center'),axis=1)\n",
    "    elif 8 <= idx < 10:\n",
    "        axes[3][idx-8].set_title(val[-4:], fontsize=25)\n",
    "        deer_permit_areas.plot(ax=axes[3][idx-8], column=years[idx], legend=True, cmap='coolwarm')\n",
    "        deer_permit_areas.apply(lambda x: axes[3][idx-8].annotate(s=x.KILLBLOCK, xy=x.geometry.centroid.coords[0], ha='center'),axis=1)\n",
    "    elif 10 <= idx < 12:\n",
    "        axes[3][idx-10].set_title(val[-4:], fontsize=25)\n",
    "        deer_permit_areas.plot(ax=axes[3][idx-10], column=years[idx], legend=True, cmap='coolwarm')\n",
    "        deer_permit_areas.apply(lambda x: axes[3][idx-10].annotate(s=x.KILLBLOCK, xy=x.geometry.centroid.coords[0], ha='center'),axis=1)\n",
    "plt.show()"
   ]
  },
  {
   "cell_type": "markdown",
   "metadata": {},
   "source": [
    "# View Maps at Common Scale\n",
    "Now that we have a sense of the different total harvest values year to year it may be more helpful to view the maps at a common scale."
   ]
  },
  {
   "cell_type": "code",
   "execution_count": null,
   "metadata": {},
   "outputs": [],
   "source": [
    "# Grab years and set up plot\n",
    "years = list(deer_permit_areas.columns[4:])\n",
    "plot_rows = int(str(len(years)/2).rstrip('.0'))\n",
    "fig, axes = plt.subplots(figsize=(20, 30), ncols=2, nrows=plot_rows,\n",
    "                        constrained_layout=True, \n",
    "                        sharex=True, sharey=True, \n",
    "                        subplot_kw=dict(aspect='equal'))\n",
    "\n",
    "fig.suptitle('Total Deer Harvest in Perpetual Permit Areas (Common Scale)', fontsize=35)\n",
    "\n",
    "class_breaks = dict(bins=[0,1000,2000,3000,4000,5000,6000,7000,8000,9000])\n",
    "\n",
    "# Loop through up to 11 potential maps of Yearly Deer Harvest data\n",
    "for idx, val in enumerate(years):\n",
    "    if idx < 2:\n",
    "        axes[0][idx].set_title(val[-4:], fontsize=25)\n",
    "        deer_permit_areas.plot(ax=axes[0][idx], column=years[idx], legend=True,cmap='coolwarm',scheme=\"User_Defined\",classification_kwds=class_breaks,legend_kwds={'loc': 'lower right','title': 'Total Deer Harvest','fontsize': 10})\n",
    "        deer_permit_areas.apply(lambda x: axes[0][idx].annotate(s=x.KILLBLOCK, xy=x.geometry.centroid.coords[0], ha='center'),axis=1) \n",
    "    elif 2 <= idx < 4:\n",
    "        axes[1][idx-2].set_title(val[-4:], fontsize=25)\n",
    "        deer_permit_areas.plot(ax=axes[1][idx-2], column=years[idx], legend=True,cmap='coolwarm',scheme=\"User_Defined\",classification_kwds=class_breaks,legend_kwds={'loc': 'lower right'})\n",
    "        deer_permit_areas.apply(lambda x: axes[1][idx-2].annotate(s=x.KILLBLOCK, xy=x.geometry.centroid.coords[0], ha='center'),axis=1) \n",
    "    elif 4 <= idx < 6:\n",
    "        axes[2][idx-4].set_title(val[-4:], fontsize=25)\n",
    "        deer_permit_areas.plot(ax=axes[2][idx-4], column=years[idx], legend=False,cmap='coolwarm',scheme=\"User_Defined\",classification_kwds=class_breaks,legend_kwds={'loc': 'lower right'})\n",
    "        deer_permit_areas.apply(lambda x: axes[2][idx-4].annotate(s=x.KILLBLOCK, xy=x.geometry.centroid.coords[0], ha='center'),axis=1)\n",
    "    elif 6 <= idx < 8:\n",
    "        axes[2][idx-6].set_title(val[-4:], fontsize=25)\n",
    "        deer_permit_areas.plot(ax=axes[2][idx-6], column=years[idx], legend=False,cmap='coolwarm',scheme=\"User_Defined\",classification_kwds=class_breaks,legend_kwds={'loc': 'lower right'})\n",
    "        deer_permit_areas.apply(lambda x: axes[2][idx-6].annotate(s=x.KILLBLOCK, xy=x.geometry.centroid.coords[0], ha='center'),axis=1)\n",
    "    elif 8 <= idx < 10:\n",
    "        axes[3][idx-8].set_title(val[-4:], fontsize=25)\n",
    "        deer_permit_areas.plot(ax=axes[3][idx-8], column=years[idx], legend=False,cmap='coolwarm',scheme=\"User_Defined\",classification_kwds=class_breaks,legend_kwds={'loc': 'lower right'})\n",
    "        deer_permit_areas.apply(lambda x: axes[3][idx-8].annotate(s=x.KILLBLOCK, xy=x.geometry.centroid.coords[0], ha='center'),axis=1)\n",
    "    elif 10 <= idx < 12:\n",
    "        axes[3][idx-10].set_title(val[-4:], fontsize=25)\n",
    "        deer_permit_areas.plot(ax=axes[3][idx-10], column=years[idx], legend=False,cmap='coolwarm',scheme=\"User_Defined\",classification_kwds=class_breaks,legend_kwds={'loc': 'lower right'})\n",
    "        deer_permit_areas.apply(lambda x: axes[3][idx-10].annotate(s=x.KILLBLOCK, xy=x.geometry.centroid.coords[0], ha='center'),axis=1)\n",
    "\n",
    "plt.show()"
   ]
  },
  {
   "cell_type": "markdown",
   "metadata": {},
   "source": [
    "# Permit Areas of Interest and Upcoming CWD Data\n",
    "We can see from the maps that there is an area of high total harvest activity in the mid-north area of Minnesota. In particular Permit Area 241 has very high activity.\n",
    "\n",
    "We will next be bringing in chronic wasting diease data and determing which Permit Area's CWD activity has been reported.\n",
    "\n",
    "The CWD Data contains reported and confirmed cases of chronic wasting disease in Minnesota.\n",
    "\n",
    "source: https://www.dnr.state.mn.us/cwdcheck/positive-deer-table.html"
   ]
  },
  {
   "cell_type": "code",
   "execution_count": null,
   "metadata": {},
   "outputs": [],
   "source": [
    "# Read in chronic wasting diesease data\n",
    "mn_cwd = gpd.read_file('data/cwd_positive_deer_data.csv')\n",
    "mn_cwd['permit_area'] = pd.to_numeric(mn_cwd['permit_area'])\n",
    "mn_cwd.head()\n"
   ]
  },
  {
   "cell_type": "code",
   "execution_count": null,
   "metadata": {},
   "outputs": [],
   "source": [
    "# Join the CWD Data to the Deer Harvest Dataset we have been working with\n",
    "mn_cwd.rename({'permit_area': 'KILLBLOCK'}, axis=1, inplace=True)\n",
    "mn_cwd.info()\n",
    "# deer_permit_areas.info()\n",
    "\n",
    "deer_permit_areas = deer_permit_areas.merge(mn_cwd, on='KILLBLOCK', how='right')\n",
    "deer_permit_areas.sample(3)"
   ]
  },
  {
   "cell_type": "code",
   "execution_count": null,
   "metadata": {},
   "outputs": [],
   "source": []
  }
 ],
 "metadata": {
  "kernelspec": {
   "display_name": "Python 3",
   "language": "python",
   "name": "python3"
  },
  "language_info": {
   "codemirror_mode": {
    "name": "ipython",
    "version": 3
   },
   "file_extension": ".py",
   "mimetype": "text/x-python",
   "name": "python",
   "nbconvert_exporter": "python",
   "pygments_lexer": "ipython3",
   "version": "3.8.5"
  }
 },
 "nbformat": 4,
 "nbformat_minor": 4
}
